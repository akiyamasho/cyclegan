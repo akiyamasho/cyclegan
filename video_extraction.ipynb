{
 "cells": [
  {
   "cell_type": "code",
   "execution_count": null,
   "metadata": {},
   "outputs": [],
   "source": [
    "import os\n",
    "os.chdir('cyclegan')\n",
    "\n",
    "!pip install -r requirements_dev.txt"
   ]
  },
  {
   "cell_type": "code",
   "execution_count": null,
   "metadata": {},
   "outputs": [],
   "source": [
    "import hashlib\n",
    "import cv2\n",
    "import logging\n",
    "import shutil\n",
    "import random\n",
    "import math\n",
    "\n",
    "from tqdm.notebook import tqdm_notebook\n",
    "\n",
    "logging.basicConfig(level=logging.INFO)\n",
    "logger = logging.getLogger(__name__)\n",
    "\n",
    "RANDOM_FILENAME_LENGTH = 12\n",
    "\n",
    "# Folder names\n",
    "ROOT_DATASET_FOLDER = \"datasets\"\n",
    "DATASET_NAME = \"threeD2twoD\"\n",
    "A_3D_VIDEO_FILE = \"A_3D_256.mp4\"\n",
    "B_2D_VIDEO_FILE = \"B_2D_256.mp4\"\n",
    "\n",
    "A_3D_OUTPUT_FOLDER = \"A_3D_256_frames\"\n",
    "B_2D_OUTPUT_FOLDER = \"B_2D_256_frames\"\n",
    "\n",
    "# Paths\n",
    "A_3D_VIDEO_PATH = os.path.join(ROOT_DATASET_FOLDER, DATASET_NAME, A_3D_VIDEO_FILE)\n",
    "A_3D_RAW_DATASET_PATH = os.path.join(\n",
    "    ROOT_DATASET_FOLDER, DATASET_NAME, A_3D_OUTPUT_FOLDER\n",
    ")\n",
    "\n",
    "B_2D_VIDEO_PATH = os.path.join(ROOT_DATASET_FOLDER, DATASET_NAME, B_2D_VIDEO_FILE)\n",
    "B_2D_RAW_DATASET_PATH = os.path.join(\n",
    "    ROOT_DATASET_FOLDER, DATASET_NAME, B_2D_OUTPUT_FOLDER\n",
    ")\n",
    "\n",
    "OUTPUT_IMAGE_EXT = \".png\"\n",
    "\n",
    "SHOULD_RANDOMISE_FILENAMES = True\n"
   ]
  },
  {
   "cell_type": "code",
   "execution_count": null,
   "metadata": {},
   "outputs": [],
   "source": [
    "def extract_frames(\n",
    "    input_file_path: str,\n",
    "    output_folder_path: str,\n",
    "    should_randomise: bool = SHOULD_RANDOMISE_FILENAMES,\n",
    "):\n",
    "    if not os.path.exists(output_folder_path):\n",
    "        os.mkdir(output_folder_path)\n",
    "\n",
    "    vidcap = cv2.VideoCapture(input_file_path)\n",
    "    frame_count = int(vidcap.get(cv2.CAP_PROP_FRAME_COUNT))\n",
    "    logger.info(f\"Extracting {frame_count} frames from `{input_file_path}`\")\n",
    "    _, image = vidcap.read()\n",
    "    count = 0\n",
    "\n",
    "    for count in tqdm_notebook(range(frame_count)):\n",
    "        raw_frame_file_name = (\n",
    "            f\"{hashlib.sha1(os.urandom(32)).hexdigest()[:RANDOM_FILENAME_LENGTH]}{OUTPUT_IMAGE_EXT}\"\n",
    "            if should_randomise\n",
    "            else f\"{count:03d}{OUTPUT_IMAGE_EXT}\"\n",
    "        )\n",
    "        frame_file_path = os.path.join(output_folder_path, raw_frame_file_name)\n",
    "        cv2.imwrite(frame_file_path, image)\n",
    "        _, image = vidcap.read()\n"
   ]
  },
  {
   "cell_type": "code",
   "execution_count": null,
   "metadata": {},
   "outputs": [],
   "source": [
    "extract_frames(input_file_path=A_3D_VIDEO_PATH, output_folder_path=A_3D_RAW_DATASET_PATH)\n"
   ]
  },
  {
   "cell_type": "code",
   "execution_count": null,
   "metadata": {},
   "outputs": [],
   "source": [
    "remove_dup_cmd = f\"image-cleaner {A_3D_RAW_DATASET_PATH}\"\n",
    "!{remove_dup_cmd}"
   ]
  },
  {
   "cell_type": "code",
   "execution_count": null,
   "metadata": {},
   "outputs": [],
   "source": [
    "extract_frames(input_file_path=B_2D_VIDEO_PATH, output_folder_path=B_2D_RAW_DATASET_PATH)"
   ]
  },
  {
   "cell_type": "code",
   "execution_count": null,
   "metadata": {},
   "outputs": [],
   "source": [
    "remove_dup_cmd = f\"image-cleaner {B_2D_RAW_DATASET_PATH}\"\n",
    "!{remove_dup_cmd}"
   ]
  },
  {
   "cell_type": "code",
   "execution_count": null,
   "metadata": {},
   "outputs": [],
   "source": [
    "# Train/Test Split Config\n",
    "\n",
    "TRAIN_SPLIT = 0.9\n",
    "TEST_SPLIT = 1 - TRAIN_SPLIT\n",
    "\n",
    "TRAIN_A_PATH = os.path.join(ROOT_DATASET_FOLDER, DATASET_NAME, \"trainA\")\n",
    "TRAIN_B_PATH = os.path.join(ROOT_DATASET_FOLDER, DATASET_NAME, \"trainB\")\n",
    "TEST_A_PATH = os.path.join(ROOT_DATASET_FOLDER, DATASET_NAME, \"testA\")\n",
    "TEST_B_PATH = os.path.join(ROOT_DATASET_FOLDER, DATASET_NAME, \"testB\")"
   ]
  },
  {
   "cell_type": "code",
   "execution_count": null,
   "metadata": {},
   "outputs": [],
   "source": [
    "def split_train_test(raw_dataset_path: str, train_path: str, test_path: str):\n",
    "    files = os.listdir(raw_dataset_path)\n",
    "    total_file_count = len(files)\n",
    "    logger.info(f\"Found total de-duplicated {total_file_count} images.\")\n",
    "\n",
    "    if not os.path.exists(train_path):\n",
    "        os.mkdir(train_path)\n",
    "    \n",
    "    if not os.path.exists(test_path):\n",
    "        os.mkdir(test_path)\n",
    "\n",
    "    # Train\n",
    "    no_of_files = math.floor(total_file_count * TRAIN_SPLIT)\n",
    "    logger.info(f\"Moving {no_of_files} files to training set...\")\n",
    "    for file_name in tqdm_notebook(random.sample(files, no_of_files)):\n",
    "        shutil.move(os.path.join(raw_dataset_path, file_name), train_path)\n",
    "\n",
    "    # Test\n",
    "    remaining_files = os.listdir(raw_dataset_path)\n",
    "    logger.info(f\"Moving {len(remaining_files)} files to test set...\")\n",
    "    for file_name in tqdm_notebook(remaining_files):\n",
    "        shutil.move(os.path.join(raw_dataset_path, file_name), test_path)\n"
   ]
  },
  {
   "cell_type": "code",
   "execution_count": null,
   "metadata": {},
   "outputs": [],
   "source": [
    "split_train_test(raw_dataset_path=A_3D_RAW_DATASET_PATH, train_path=TRAIN_A_PATH, test_path=TEST_A_PATH)"
   ]
  },
  {
   "cell_type": "code",
   "execution_count": null,
   "metadata": {},
   "outputs": [],
   "source": []
  },
  {
   "cell_type": "code",
   "execution_count": null,
   "metadata": {},
   "outputs": [],
   "source": []
  },
  {
   "cell_type": "code",
   "execution_count": null,
   "metadata": {},
   "outputs": [],
   "source": [
    "split_train_test(raw_dataset_path=B_2D_RAW_DATASET_PATH, train_path=TRAIN_B_PATH, test_path=TEST_B_PATH)"
   ]
  }
 ],
 "metadata": {
  "kernelspec": {
   "display_name": "Python 3 (ipykernel)",
   "language": "python",
   "name": "python3"
  },
  "language_info": {
   "codemirror_mode": {
    "name": "ipython",
    "version": 3
   },
   "file_extension": ".py",
   "mimetype": "text/x-python",
   "name": "python",
   "nbconvert_exporter": "python",
   "pygments_lexer": "ipython3",
   "version": "3.8.12"
  }
 },
 "nbformat": 4,
 "nbformat_minor": 2
}
